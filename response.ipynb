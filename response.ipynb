{
 "metadata": {
  "name": "response"
 },
 "nbformat": 3,
 "nbformat_minor": 0,
 "worksheets": [
  {
   "cells": [
    {
     "cell_type": "markdown",
     "metadata": {},
     "source": [
      "# eyeCode Response Data Analysis"
     ]
    },
    {
     "cell_type": "markdown",
     "metadata": {},
     "source": [
      "Import libraries and data from xml."
     ]
    },
    {
     "cell_type": "code",
     "collapsed": false,
     "input": [
      "import pandas, statsmodels.api as sm\n",
      "from lxml import etree\n",
      "from response_stats import make_dataframe\n",
      "from scipy import stats"
     ],
     "language": "python",
     "metadata": {},
     "outputs": [],
     "prompt_number": 34
    },
    {
     "cell_type": "code",
     "collapsed": false,
     "input": [
      "xml_experiments = etree.parse(\"data/response_data.xml.gz\").xpath(\"//experiment\")\n",
      "trials = make_dataframe(xml_experiments)\n",
      "trials"
     ],
     "language": "python",
     "metadata": {},
     "outputs": [
      {
       "output_type": "pyout",
       "prompt_number": 3,
       "text": [
        "<class 'pandas.core.frame.DataFrame'>\n",
        "Int64Index: 1602 entries, 0 to 1601\n",
        "Data columns:\n",
        "id                   1602  non-null values\n",
        "exp_id               1602  non-null values\n",
        "base                 1602  non-null values\n",
        "version              1602  non-null values\n",
        "grade_value          1602  non-null values\n",
        "grade_category       1602  non-null values\n",
        "started              1602  non-null values\n",
        "ended                1602  non-null values\n",
        "response_duration    1602  non-null values\n",
        "py_years             1602  non-null values\n",
        "prog_years           1602  non-null values\n",
        "age                  1602  non-null values\n",
        "degree               1602  non-null values\n",
        "gender               1602  non-null values\n",
        "location             1602  non-null values\n",
        "code_lines           1602  non-null values\n",
        "duration             1602  non-null values\n",
        "response_percent     1602  non-null values\n",
        "common               1602  non-null values\n",
        "dtypes: bool(1), float64(5), int64(5), object(8)"
       ]
      }
     ],
     "prompt_number": 3
    },
    {
     "cell_type": "markdown",
     "metadata": {},
     "source": [
      "Group all trials by program base type and compute the average grade, response time, and lines of code."
     ]
    },
    {
     "cell_type": "code",
     "collapsed": false,
     "input": [
      "data = trials[[\"base\", \"grade_value\", \"code_lines\", \"duration\"]].groupby(\"base\").mean()\n",
      "data"
     ],
     "language": "python",
     "metadata": {},
     "outputs": [
      {
       "html": [
        "<div style=\"max-height:1000px;max-width:1500px;overflow:auto;\">\n",
        "<table border=\"1\" class=\"dataframe\">\n",
        "  <thead>\n",
        "    <tr style=\"text-align: right;\">\n",
        "      <th></th>\n",
        "      <th>grade_value</th>\n",
        "      <th>code_lines</th>\n",
        "      <th>duration</th>\n",
        "    </tr>\n",
        "    <tr>\n",
        "      <th>base</th>\n",
        "      <th></th>\n",
        "      <th></th>\n",
        "      <th></th>\n",
        "    </tr>\n",
        "  </thead>\n",
        "  <tbody>\n",
        "    <tr>\n",
        "      <td><strong>between</strong></td>\n",
        "      <td> 5.314465</td>\n",
        "      <td> 21.169811</td>\n",
        "      <td> 182.238994</td>\n",
        "    </tr>\n",
        "    <tr>\n",
        "      <td><strong>counting</strong></td>\n",
        "      <td> 7.478261</td>\n",
        "      <td>  3.906832</td>\n",
        "      <td>  61.627329</td>\n",
        "    </tr>\n",
        "    <tr>\n",
        "      <td><strong>funcall</strong></td>\n",
        "      <td> 9.216049</td>\n",
        "      <td>  4.962963</td>\n",
        "      <td>  36.975309</td>\n",
        "    </tr>\n",
        "    <tr>\n",
        "      <td><strong>initvar</strong></td>\n",
        "      <td> 7.725000</td>\n",
        "      <td>  9.000000</td>\n",
        "      <td>  66.012500</td>\n",
        "    </tr>\n",
        "    <tr>\n",
        "      <td><strong>order</strong></td>\n",
        "      <td> 8.906832</td>\n",
        "      <td> 14.000000</td>\n",
        "      <td>  70.285714</td>\n",
        "    </tr>\n",
        "    <tr>\n",
        "      <td><strong>overload</strong></td>\n",
        "      <td> 8.720497</td>\n",
        "      <td> 11.000000</td>\n",
        "      <td>  40.086957</td>\n",
        "    </tr>\n",
        "    <tr>\n",
        "      <td><strong>partition</strong></td>\n",
        "      <td> 7.712500</td>\n",
        "      <td>  5.343750</td>\n",
        "      <td>  52.837500</td>\n",
        "    </tr>\n",
        "    <tr>\n",
        "      <td><strong>rectangle</strong></td>\n",
        "      <td> 9.522013</td>\n",
        "      <td> 17.735849</td>\n",
        "      <td> 101.169811</td>\n",
        "    </tr>\n",
        "    <tr>\n",
        "      <td><strong>scope</strong></td>\n",
        "      <td> 6.949686</td>\n",
        "      <td> 12.000000</td>\n",
        "      <td>  65.264151</td>\n",
        "    </tr>\n",
        "    <tr>\n",
        "      <td><strong>whitespace</strong></td>\n",
        "      <td> 8.575000</td>\n",
        "      <td> 14.000000</td>\n",
        "      <td> 119.131250</td>\n",
        "    </tr>\n",
        "  </tbody>\n",
        "</table>\n",
        "</div>"
       ],
       "output_type": "pyout",
       "prompt_number": 7,
       "text": [
        "            grade_value  code_lines    duration\n",
        "base                                           \n",
        "between        5.314465   21.169811  182.238994\n",
        "counting       7.478261    3.906832   61.627329\n",
        "funcall        9.216049    4.962963   36.975309\n",
        "initvar        7.725000    9.000000   66.012500\n",
        "order          8.906832   14.000000   70.285714\n",
        "overload       8.720497   11.000000   40.086957\n",
        "partition      7.712500    5.343750   52.837500\n",
        "rectangle      9.522013   17.735849  101.169811\n",
        "scope          6.949686   12.000000   65.264151\n",
        "whitespace     8.575000   14.000000  119.131250"
       ]
      }
     ],
     "prompt_number": 7
    },
    {
     "cell_type": "markdown",
     "metadata": {},
     "source": [
      "The figure below shows that there is a slight negative correlation between grade and response time."
     ]
    },
    {
     "cell_type": "code",
     "collapsed": false,
     "input": [
      "pyplot.figure(figsize=(8, 5))\n",
      "ax = data.plot(x=\"grade_value\", y=\"duration\", marker=\"o\", markersize=12, linestyle=\"\")\n",
      "ax.set_title(\"Mean Grade by Program Base vs. Mean RT\")\n",
      "ax.set_xlabel(\"Mean Grade\")\n",
      "ax.set_ylabel(\"Mean Response Time (s)\")\n",
      "ax.grid()"
     ],
     "language": "python",
     "metadata": {},
     "outputs": [
      {
       "output_type": "display_data",
       "png": "[encoded data removed]"
      }
     ],
     "prompt_number": 35
    },
    {
     "cell_type": "markdown",
     "metadata": {},
     "source": [
      "This is quantified by a Pearson correlation. The correlation is moderate, but not statistically significant."
     ]
    },
    {
     "cell_type": "code",
     "collapsed": false,
     "input": [
      "r, p = stats.pearsonr(data.grade_value, data.duration)\n",
      "print \"Correlation between mean grade and response time: {0} (p={1})\".format(r, p)"
     ],
     "language": "python",
     "metadata": {},
     "outputs": [
      {
       "output_type": "stream",
       "stream": "stdout",
       "text": [
        "Correlation between mean grade and response time: -0.548014281692 (p=0.10100278136)\n"
       ]
      }
     ],
     "prompt_number": 39
    },
    {
     "cell_type": "markdown",
     "metadata": {},
     "source": [
      "Another possibility is that the response time is driven by lines of code. A quick plot shows a strong positive correlation."
     ]
    },
    {
     "cell_type": "code",
     "collapsed": false,
     "input": [
      "pyplot.figure(figsize=(8, 5))\n",
      "ax = data.plot(x=\"code_lines\", y=\"duration\", marker=\"o\", markersize=12, linestyle=\"\", color=\"red\")\n",
      "ax.set_title(\"Mean LOC by Program Base vs. Mean RT\")\n",
      "ax.set_xlabel(\"Mean Lines of Code\")\n",
      "ax.set_ylabel(\"Mean Response Time (s)\")\n",
      "ax.grid()"
     ],
     "language": "python",
     "metadata": {},
     "outputs": [
      {
       "output_type": "display_data",
       "png": "[encoded data removed]"
      }
     ],
     "prompt_number": 32
    },
    {
     "cell_type": "markdown",
     "metadata": {},
     "source": [
      "The stats agree."
     ]
    },
    {
     "cell_type": "code",
     "collapsed": false,
     "input": [
      "r, p = stats.pearsonr(data.code_lines, data.duration)\n",
      "print \"Correlation between LOC and response time: {0} (p={1})\".format(r, p)"
     ],
     "language": "python",
     "metadata": {},
     "outputs": [
      {
       "output_type": "stream",
       "stream": "stdout",
       "text": [
        "Correlation between LOC and response time: 0.813437462179 (p=0.00420323835287)\n"
       ]
      }
     ],
     "prompt_number": 40
    },
    {
     "cell_type": "markdown",
     "metadata": {},
     "source": [
      "We can see if **both** grade and LOC are important by comparing two linears models: one with just LOC, and another with both predictors."
     ]
    },
    {
     "cell_type": "markdown",
     "metadata": {},
     "source": [
      "### Linear model with just LOC"
     ]
    },
    {
     "cell_type": "code",
     "collapsed": false,
     "input": [
      "X = sm.add_constant(data[\"code_lines\"], prepend=True)\n",
      "y = data[\"duration\"]\n",
      "fit = sm.OLS(y, X).fit()\n",
      "print fit.summary()\n",
      "print \"\""
     ],
     "language": "python",
     "metadata": {},
     "outputs": [
      {
       "output_type": "stream",
       "stream": "stdout",
       "text": [
        "                            OLS Regression Results                            \n",
        "==============================================================================\n",
        "Dep. Variable:               duration   R-squared:                       0.662\n",
        "Model:                            OLS   Adj. R-squared:                  0.619\n",
        "Method:                 Least Squares   F-statistic:                     15.65\n",
        "Date:                Tue, 14 May 2013   Prob (F-statistic):            0.00420\n",
        "Time:                        22:20:19   Log-Likelihood:                -46.095\n",
        "No. Observations:                  10   AIC:                             96.19\n",
        "Df Residuals:                       8   BIC:                             96.80\n",
        "Df Model:                           1                                         \n",
        "==============================================================================\n",
        "                 coef    std err          t      P>|t|      [95.0% Conf. Int.]\n",
        "------------------------------------------------------------------------------\n",
        "const          8.1192     20.001      0.406      0.695       -38.004    54.242\n",
        "code_lines     6.3158      1.597      3.956      0.004         2.634     9.998\n",
        "==============================================================================\n",
        "Omnibus:                        0.864   Durbin-Watson:                   1.176\n",
        "Prob(Omnibus):                  0.649   Jarque-Bera (JB):                0.611\n",
        "Skew:                           0.130   Prob(JB):                        0.737\n",
        "Kurtosis:                       1.817   Cond. No.                         29.3\n",
        "==============================================================================\n",
        "\n"
       ]
      }
     ],
     "prompt_number": 41
    },
    {
     "cell_type": "markdown",
     "metadata": {},
     "source": [
      "### Linear model with both LOC and grade"
     ]
    },
    {
     "cell_type": "code",
     "collapsed": false,
     "input": [
      "X = sm.add_constant(data[[\"grade_value\", \"code_lines\"]], prepend=True)\n",
      "y = data[\"duration\"]\n",
      "fit = sm.OLS(y, X).fit()\n",
      "print fit.summary()\n",
      "print \"\""
     ],
     "language": "python",
     "metadata": {},
     "outputs": [
      {
       "output_type": "stream",
       "stream": "stdout",
       "text": [
        "                            OLS Regression Results                            \n",
        "==============================================================================\n",
        "Dep. Variable:               duration   R-squared:                       0.796\n",
        "Model:                            OLS   Adj. R-squared:                  0.737\n",
        "Method:                 Least Squares   F-statistic:                     13.63\n",
        "Date:                Tue, 14 May 2013   Prob (F-statistic):            0.00385\n",
        "Time:                        22:13:07   Log-Likelihood:                -43.573\n",
        "No. Observations:                  10   AIC:                             93.15\n",
        "Df Residuals:                       7   BIC:                             94.05\n",
        "Df Model:                           2                                         \n",
        "===============================================================================\n",
        "                  coef    std err          t      P>|t|      [95.0% Conf. Int.]\n",
        "-------------------------------------------------------------------------------\n",
        "const         121.7400     55.565      2.191      0.065        -9.651   253.131\n",
        "grade_value   -13.2049      6.162     -2.143      0.069       -27.776     1.366\n",
        "code_lines      5.6242      1.365      4.120      0.004         2.396     8.852\n",
        "==============================================================================\n",
        "Omnibus:                        0.253   Durbin-Watson:                   1.986\n",
        "Prob(Omnibus):                  0.881   Jarque-Bera (JB):                0.353\n",
        "Skew:                          -0.278   Prob(JB):                        0.838\n",
        "Kurtosis:                       2.267   Cond. No.                         114.\n",
        "==============================================================================\n",
        "\n"
       ]
      }
     ],
     "prompt_number": 33
    },
    {
     "cell_type": "markdown",
     "metadata": {},
     "source": [
      "The model with both predictors does better, both in terms of r-squared and AIC/BIC."
     ]
    }
   ],
   "metadata": {}
  }
 ]
}